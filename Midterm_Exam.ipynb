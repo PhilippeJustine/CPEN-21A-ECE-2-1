{
  "nbformat": 4,
  "nbformat_minor": 0,
  "metadata": {
    "colab": {
      "name": "Midterm Exam.ipynb",
      "provenance": [],
      "authorship_tag": "ABX9TyMhgJdMvFiEch6gXB3lYVzV",
      "include_colab_link": true
    },
    "kernelspec": {
      "name": "python3",
      "display_name": "Python 3"
    },
    "language_info": {
      "name": "python"
    }
  },
  "cells": [
    {
      "cell_type": "markdown",
      "metadata": {
        "id": "view-in-github",
        "colab_type": "text"
      },
      "source": [
        "<a href=\"https://colab.research.google.com/github/PhilippeJustine/CPEN-21A-ECE-2-1/blob/main/Midterm_Exam.ipynb\" target=\"_parent\"><img src=\"https://colab.research.google.com/assets/colab-badge.svg\" alt=\"Open In Colab\"/></a>"
      ]
    },
    {
      "cell_type": "markdown",
      "metadata": {
        "id": "IZnb11CN2dSs"
      },
      "source": [
        "#Midterm Exam"
      ]
    },
    {
      "cell_type": "markdown",
      "metadata": {
        "id": "9iSMojtT2gaZ"
      },
      "source": [
        "##PROBLEM STATEMENT 1"
      ]
    },
    {
      "cell_type": "code",
      "metadata": {
        "colab": {
          "base_uri": "https://localhost:8080/"
        },
        "id": "Xqkf96xu2qdq",
        "outputId": "892b9c5b-14b7-4f77-f4df-13c28d1251e5"
      },
      "source": [
        "#Provide your necessary information below using python codes (20 points)\n",
        "\n",
        "a=\"Philippe Justine A. Binato\"\n",
        "b=\"202011395\"\n",
        "c=\"20 years old\"\n",
        "d=\"August 28, 2001\"\n",
        "e=\"061 Talisay St. Bagong Kalsada, Naic, Cavite\"\n",
        "f=\"Programming Logic and Design\"\n",
        "g=\"1.17\"\n",
        "\n",
        "print(\"Full Name:\" + a)\n",
        "print(\"Student Number:\" + b)\n",
        "print(\"Age:\" + c)\n",
        "print(\"Birthday:\" + d)\n",
        "print(\"Address:\" + e)\n",
        "print(\"Course:\" + f)\n",
        "print(\"Last Sem GWA:\" + g)"
      ],
      "execution_count": null,
      "outputs": [
        {
          "output_type": "stream",
          "name": "stdout",
          "text": [
            "Full Name:Philippe Justine A. Binato\n",
            "Student Number:202011395\n",
            "Age:20 years old\n",
            "Birthday:August 28, 2001\n",
            "Address:061 Talisay St. Bagong Kalsada, Naic, Cavite\n",
            "Course:Programming Logic and Design\n",
            "Last Sem GWA:1.17\n"
          ]
        }
      ]
    },
    {
      "cell_type": "markdown",
      "metadata": {
        "id": "S5mWUXeP4Wcj"
      },
      "source": [
        "##PROBLEM STATEMENT 2"
      ]
    },
    {
      "cell_type": "code",
      "metadata": {
        "colab": {
          "base_uri": "https://localhost:8080/"
        },
        "id": "SQe4DUY04bY6",
        "outputId": "23bc9dcf-48c0-43a5-9791-71ad820ecb84"
      },
      "source": [
        "#Suppose the numeric variable n has value 4 and the string variable answ has value “Y”. Determine whether each of the following conditions is true or false. (40 points)\n",
        "\n",
        "n=4\n",
        "answ=\"Y\"\n",
        "\n",
        "print(bool(2<n)and(n<6)) #a\n",
        "print(bool(2<n)or(n==6)) #b\n",
        "print(bool(not(2<n)or(n==6))) #c\n",
        "print(bool(not(n<6))) #d\n",
        "print(bool((answ==\"Y\")or(answ==\"y\"))) #e\n",
        "print(bool((answ==\"Y\")and(answ==\"y\"))) #f\n",
        "print(bool(not(answ==\"y\"))) #g\n",
        "print(bool((2<n)and(n==5+1))or(answ==\"No\")) #h\n",
        "print(bool((n==2)and(n==7))or(answ==\"Y\")) #i\n",
        "print(bool(n==2)and((n==7)or(answ==\"Y\")))"
      ],
      "execution_count": null,
      "outputs": [
        {
          "output_type": "stream",
          "name": "stdout",
          "text": [
            "True\n",
            "True\n",
            "False\n",
            "False\n",
            "True\n",
            "False\n",
            "True\n",
            "False\n",
            "True\n",
            "False\n"
          ]
        }
      ]
    },
    {
      "cell_type": "markdown",
      "metadata": {
        "id": "0-_dBwUK-3mO"
      },
      "source": [
        "##PROBLEM STATEMENT 3"
      ]
    },
    {
      "cell_type": "code",
      "metadata": {
        "colab": {
          "base_uri": "https://localhost:8080/"
        },
        "id": "q0kPQTwV-6ud",
        "outputId": "f4d8bc87-4c8e-48a2-cfed-b9a0189733a2"
      },
      "source": [
        "#Write a Python program with the statements that computes and reports the results of each of the following arithmetic expressions. Initialize the following variable: \n",
        "\n",
        "x=2\n",
        "y=-3\n",
        "w=7\n",
        "z=-10\t\n",
        "\n",
        "print(x/y) #a\n",
        "print(w/y/x) #b\n",
        "print(x/y%x) #c\n",
        "print(x%-y*w) #d\n",
        "print(x%y) #e\n",
        "print(z%w-y/x*5+5) #f\n",
        "print(9-x%(2+y)) #g\n",
        "print(z//w) #h\n",
        "print((2+y)**2) #i\n",
        "print(w/x*2) #j"
      ],
      "execution_count": null,
      "outputs": [
        {
          "output_type": "stream",
          "name": "stdout",
          "text": [
            "-0.6666666666666666\n",
            "-1.1666666666666667\n",
            "1.3333333333333335\n",
            "14\n",
            "-1\n",
            "16.5\n",
            "9\n",
            "-2\n",
            "1\n",
            "7.0\n"
          ]
        }
      ]
    }
  ]
}