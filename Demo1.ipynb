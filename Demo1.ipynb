{
  "nbformat": 4,
  "nbformat_minor": 0,
  "metadata": {
    "colab": {
      "name": "Demo1.ipynb",
      "provenance": [],
      "authorship_tag": "ABX9TyMAXMksJGp/dZmA0rl/wNus",
      "include_colab_link": true
    },
    "kernelspec": {
      "name": "python3",
      "display_name": "Python 3"
    },
    "language_info": {
      "name": "python"
    }
  },
  "cells": [
    {
      "cell_type": "markdown",
      "metadata": {
        "id": "view-in-github",
        "colab_type": "text"
      },
      "source": [
        "<a href=\"https://colab.research.google.com/github/PhilippeJustine/CPEN-21A-ECE-2-1/blob/main/Demo1.ipynb\" target=\"_parent\"><img src=\"https://colab.research.google.com/assets/colab-badge.svg\" alt=\"Open In Colab\"/></a>"
      ]
    },
    {
      "cell_type": "markdown",
      "metadata": {
        "id": "ZOR22HD52z3a"
      },
      "source": [
        "#Introduction to Python"
      ]
    },
    {
      "cell_type": "markdown",
      "metadata": {
        "id": "L5y_D9CQ3Cbm"
      },
      "source": [
        "##Indention"
      ]
    },
    {
      "cell_type": "code",
      "metadata": {
        "colab": {
          "base_uri": "https://localhost:8080/"
        },
        "id": "gQsjk7hq27AD",
        "outputId": "7f6a4479-5d44-4492-b606-e9e85369406f"
      },
      "source": [
        "if 5>2:\n",
        "  print(\"Five is greater than two\")"
      ],
      "execution_count": 49,
      "outputs": [
        {
          "output_type": "stream",
          "name": "stdout",
          "text": [
            "Five is greater than two\n"
          ]
        }
      ]
    },
    {
      "cell_type": "markdown",
      "metadata": {
        "id": "k7Z5ezTN3X8_"
      },
      "source": [
        "##Python Variable"
      ]
    },
    {
      "cell_type": "code",
      "metadata": {
        "colab": {
          "base_uri": "https://localhost:8080/"
        },
        "id": "zTRwWz2n3axm",
        "outputId": "45154408-b54d-43d6-a449-16fc593bcc85"
      },
      "source": [
        "x=1 #This is an integer\n",
        "a, b = 0,1\n",
        "a, b, c = 0,1,2\n",
        "print(x)\n",
        "print(a)\n",
        "print(b)\n",
        "print(c)"
      ],
      "execution_count": 2,
      "outputs": [
        {
          "output_type": "stream",
          "name": "stdout",
          "text": [
            "1\n",
            "1\n",
            "2\n",
            "3\n"
          ]
        }
      ]
    },
    {
      "cell_type": "code",
      "metadata": {
        "colab": {
          "base_uri": "https://localhost:8080/"
        },
        "id": "icxy-Dd8440n",
        "outputId": "9b6d7f5d-e46e-408b-dd2c-f63a34bfd6ca"
      },
      "source": [
        "x=\"one\" #This is a string \n",
        "a, b = \"zero\", \"one\"\n",
        "a, b, c = \"zero\", \"one\", \"two\"\n",
        "print(x)\n",
        "print(a)\n",
        "print(b)\n",
        "print(c)\n"
      ],
      "execution_count": 4,
      "outputs": [
        {
          "output_type": "stream",
          "name": "stdout",
          "text": [
            "one\n",
            "zero\n",
            "one\n",
            "two\n"
          ]
        }
      ]
    },
    {
      "cell_type": "code",
      "metadata": {
        "colab": {
          "base_uri": "https://localhost:8080/"
        },
        "id": "Ui_2epLi6xA2",
        "outputId": "59e8e28c-6525-4175-b1be-586858586cbb"
      },
      "source": [
        "d=\"Philippe\" #case sensitive\n",
        "D=\"Justine\"\n",
        "print(d)\n",
        "e=\"Binato\"\n",
        "print(d)\n",
        "print(D)\n",
        "print(e)"
      ],
      "execution_count": 50,
      "outputs": [
        {
          "output_type": "stream",
          "name": "stdout",
          "text": [
            "Philippe\n",
            "Philippe\n",
            "Justine\n",
            "Binato\n"
          ]
        }
      ]
    },
    {
      "cell_type": "markdown",
      "metadata": {
        "id": "HN9gO8E57MpJ"
      },
      "source": [
        "##Casting"
      ]
    },
    {
      "cell_type": "code",
      "metadata": {
        "colab": {
          "base_uri": "https://localhost:8080/"
        },
        "id": "7Vwzqs-o7SE9",
        "outputId": "37ae6774-ccfb-46fd-a395-ab40f83f39b4"
      },
      "source": [
        "f=float(9)\n",
        "print(f)\n",
        "g=int(9)\n",
        "print(g)"
      ],
      "execution_count": 20,
      "outputs": [
        {
          "output_type": "stream",
          "name": "stdout",
          "text": [
            "9.0\n",
            "9\n"
          ]
        }
      ]
    },
    {
      "cell_type": "markdown",
      "metadata": {
        "id": "jo5stcoG71Wi"
      },
      "source": [
        "##Type Function"
      ]
    },
    {
      "cell_type": "code",
      "metadata": {
        "colab": {
          "base_uri": "https://localhost:8080/"
        },
        "id": "uv-3b6bO73hx",
        "outputId": "1f34ab83-820f-49b7-8850-b2e2ad319749"
      },
      "source": [
        "h=1.0\n",
        "i=1\n",
        "j=\"function\"\n",
        "print(type(h))\n",
        "print(type(i))\n",
        "print(type(j))"
      ],
      "execution_count": 21,
      "outputs": [
        {
          "output_type": "stream",
          "name": "stdout",
          "text": [
            "<class 'float'>\n",
            "<class 'int'>\n",
            "<class 'str'>\n"
          ]
        }
      ]
    },
    {
      "cell_type": "markdown",
      "metadata": {
        "id": "Rnm_PIDD8S9y"
      },
      "source": [
        "##Double Quotes and Single Quotes"
      ]
    },
    {
      "cell_type": "code",
      "metadata": {
        "colab": {
          "base_uri": "https://localhost:8080/"
        },
        "id": "tQsLXuyF8YPU",
        "outputId": "0560d520-3d63-428f-a1e4-b7cf2f436405"
      },
      "source": [
        "k='Single Quotes' \n",
        "l=\"Double Quotes\"\n",
        "#Both Works\n",
        "print(k)\n",
        "print(l)"
      ],
      "execution_count": 22,
      "outputs": [
        {
          "output_type": "stream",
          "name": "stdout",
          "text": [
            "Single Quotes\n",
            "Double Quotes\n"
          ]
        }
      ]
    },
    {
      "cell_type": "markdown",
      "metadata": {
        "id": "HTmDI7kd8pEc"
      },
      "source": [
        "##Multiple Variables"
      ]
    },
    {
      "cell_type": "code",
      "metadata": {
        "colab": {
          "base_uri": "https://localhost:8080/"
        },
        "id": "CUzGAdpe8xwN",
        "outputId": "2d0bdeaf-7a21-4fac-8e20-9d9449380c46"
      },
      "source": [
        "m,n,o=\"one\", \"two\", \"three\" #Multiple Variables with Multiple Value\n",
        "p=q=r=\"zero\" #Multiple Variables with One Value\n",
        "print(m)\n",
        "print(n)\n",
        "print(o)\n",
        "print(p)\n",
        "print(q)\n",
        "print(r)"
      ],
      "execution_count": 24,
      "outputs": [
        {
          "output_type": "stream",
          "name": "stdout",
          "text": [
            "one\n",
            "two\n",
            "three\n",
            "zero\n",
            "zero\n",
            "zero\n"
          ]
        }
      ]
    },
    {
      "cell_type": "markdown",
      "metadata": {
        "id": "TaPKaVsM9TtP"
      },
      "source": [
        "##Output Variables"
      ]
    },
    {
      "cell_type": "code",
      "metadata": {
        "colab": {
          "base_uri": "https://localhost:8080/"
        },
        "id": "lJrtEzu_9W-S",
        "outputId": "09f581fb-2ea4-4ea3-bedd-e905b2d84c39"
      },
      "source": [
        "p=\"Introduction to Python.\"\n",
        "print(\"I understand the\" \" \" + p)\n"
      ],
      "execution_count": 31,
      "outputs": [
        {
          "output_type": "stream",
          "name": "stdout",
          "text": [
            "I understand the Introduction to Python.\n"
          ]
        }
      ]
    },
    {
      "cell_type": "markdown",
      "metadata": {
        "id": "fjkgpxpG9tEs"
      },
      "source": [
        "##Operations in Python"
      ]
    },
    {
      "cell_type": "code",
      "metadata": {
        "colab": {
          "base_uri": "https://localhost:8080/"
        },
        "id": "KRiBaoPG-I99",
        "outputId": "d11157cf-2a06-4383-a247-7bc4ca22c7a7"
      },
      "source": [
        "q=2\n",
        "r=8\n",
        "print(q+r) #Addition"
      ],
      "execution_count": 35,
      "outputs": [
        {
          "output_type": "stream",
          "name": "stdout",
          "text": [
            "10\n"
          ]
        }
      ]
    },
    {
      "cell_type": "code",
      "metadata": {
        "colab": {
          "base_uri": "https://localhost:8080/"
        },
        "id": "rmPy1-m7-d4O",
        "outputId": "640531c4-d83e-46f6-c672-f443570959fe"
      },
      "source": [
        "q=2\n",
        "r=8\n",
        "q -= r #This is equal to q=q-r\n",
        "print(q)\n",
        "print(type(q))"
      ],
      "execution_count": 51,
      "outputs": [
        {
          "output_type": "stream",
          "name": "stdout",
          "text": [
            "-6\n",
            "<class 'int'>\n"
          ]
        }
      ]
    },
    {
      "cell_type": "code",
      "metadata": {
        "colab": {
          "base_uri": "https://localhost:8080/"
        },
        "id": "AFlNgqpJ-tlW",
        "outputId": "216a290c-c2ca-4a7c-f51f-173390c8a369"
      },
      "source": [
        "s=0\n",
        "t=8\n",
        "s==s and t==t #This is 'and' function"
      ],
      "execution_count": 38,
      "outputs": [
        {
          "output_type": "execute_result",
          "data": {
            "text/plain": [
              "True"
            ]
          },
          "metadata": {},
          "execution_count": 38
        }
      ]
    },
    {
      "cell_type": "code",
      "metadata": {
        "colab": {
          "base_uri": "https://localhost:8080/"
        },
        "id": "QYfcnlSh_F22",
        "outputId": "fe08e0ef-fc9a-489d-91c2-f4a995ccddc5"
      },
      "source": [
        "s==t or t==t #This is 'or' function"
      ],
      "execution_count": 43,
      "outputs": [
        {
          "output_type": "execute_result",
          "data": {
            "text/plain": [
              "True"
            ]
          },
          "metadata": {},
          "execution_count": 43
        }
      ]
    },
    {
      "cell_type": "code",
      "metadata": {
        "colab": {
          "base_uri": "https://localhost:8080/"
        },
        "id": "GtkygAH9_RYO",
        "outputId": "871c1c72-75fb-4070-9391-87bd4a1238e1"
      },
      "source": [
        "not(s<t and t>s) #This is 'not' function"
      ],
      "execution_count": 44,
      "outputs": [
        {
          "output_type": "execute_result",
          "data": {
            "text/plain": [
              "False"
            ]
          },
          "metadata": {},
          "execution_count": 44
        }
      ]
    },
    {
      "cell_type": "code",
      "metadata": {
        "colab": {
          "base_uri": "https://localhost:8080/"
        },
        "id": "emSWW7Cu_ceq",
        "outputId": "fcb45d76-d708-4c88-9235-cd93885b030e"
      },
      "source": [
        "s is t #This is 's' function"
      ],
      "execution_count": 46,
      "outputs": [
        {
          "output_type": "execute_result",
          "data": {
            "text/plain": [
              "False"
            ]
          },
          "metadata": {},
          "execution_count": 46
        }
      ]
    },
    {
      "cell_type": "code",
      "metadata": {
        "colab": {
          "base_uri": "https://localhost:8080/"
        },
        "id": "8hElzt4O_xst",
        "outputId": "d4be40b4-9425-4244-b9a5-ae65b91e149e"
      },
      "source": [
        "s is not t #This is 'is not' function"
      ],
      "execution_count": 47,
      "outputs": [
        {
          "output_type": "execute_result",
          "data": {
            "text/plain": [
              "True"
            ]
          },
          "metadata": {},
          "execution_count": 47
        }
      ]
    }
  ]
}