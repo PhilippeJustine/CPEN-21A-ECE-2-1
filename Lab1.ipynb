{
  "nbformat": 4,
  "nbformat_minor": 0,
  "metadata": {
    "colab": {
      "name": "Lab1.ipynb",
      "provenance": [],
      "authorship_tag": "ABX9TyOaGWhZ+Kn89d+MZks+B9WO",
      "include_colab_link": true
    },
    "kernelspec": {
      "name": "python3",
      "display_name": "Python 3"
    },
    "language_info": {
      "name": "python"
    }
  },
  "cells": [
    {
      "cell_type": "markdown",
      "metadata": {
        "id": "view-in-github",
        "colab_type": "text"
      },
      "source": [
        "<a href=\"https://colab.research.google.com/github/PhilippeJustine/CPEN-21A-ECE-2-1/blob/main/Lab1.ipynb\" target=\"_parent\"><img src=\"https://colab.research.google.com/assets/colab-badge.svg\" alt=\"Open In Colab\"/></a>"
      ]
    },
    {
      "cell_type": "markdown",
      "metadata": {
        "id": "d5xmoe9xqh63"
      },
      "source": [
        "#Laboratory 1"
      ]
    },
    {
      "cell_type": "code",
      "metadata": {
        "colab": {
          "base_uri": "https://localhost:8080/"
        },
        "id": "_HrTfNeEs4Vz",
        "outputId": "23eeace5-98b9-411b-c147-0b8d4f3e473f"
      },
      "source": [
        "print(\"Welcome to Python Programming\")"
      ],
      "execution_count": 10,
      "outputs": [
        {
          "output_type": "stream",
          "name": "stdout",
          "text": [
            "Welcome to Python Programming\n"
          ]
        }
      ]
    },
    {
      "cell_type": "code",
      "metadata": {
        "colab": {
          "base_uri": "https://localhost:8080/"
        },
        "id": "HerwpwFgqg6A",
        "outputId": "48a94b4d-7063-424f-8b78-7722cc98110b"
      },
      "source": [
        "x=\"Philippe Justine A. Binato\"\n",
        "y=\"061 Talisay St. Bagong Karsada, Naic, Cavite\"\n",
        "z=\"20 years old\"\n",
        "print(\"Name:\"+x)\n",
        "print(\"Address:\"+y)\n",
        "print(\"Age:\"+z)"
      ],
      "execution_count": 12,
      "outputs": [
        {
          "output_type": "stream",
          "name": "stdout",
          "text": [
            "Name:Philippe Justine A. Binato\n",
            "Address:061 Talisay St. Bagong Karsada, Naic, Cavite\n",
            "Age:20 years old\n"
          ]
        }
      ]
    }
  ]
}