{
  "nbformat": 4,
  "nbformat_minor": 0,
  "metadata": {
    "colab": {
      "name": "Lab1.ipynb",
      "provenance": [],
      "authorship_tag": "ABX9TyOaGWhZ+Kn89d+MZks+B9WO",
      "include_colab_link": true
    },
    "kernelspec": {
      "name": "python3",
      "display_name": "Python 3"
    },
    "language_info": {
      "name": "python"
    }
  },
  "cells": [
    {
      "cell_type": "markdown",
      "metadata": {
        "id": "view-in-github",
        "colab_type": "text"
      },
      "source": [
        "<a href=\"https://colab.research.google.com/github/PhilippeJustine/CPEN-21A-ECE-2-1/blob/main/Lab1.ipynb\" target=\"_parent\"><img src=\"https://colab.research.google.com/assets/colab-badge.svg\" alt=\"Open In Colab\"/></a>"
      ]
    },
    {
      "cell_type": "markdown",
      "metadata": {
        "id": "Vrhe9gU7toG0"
      },
      "source": [
        "#Laboratory 1"
      ]
    },
    {
      "cell_type": "code",
      "metadata": {
        "colab": {
          "base_uri": "https://localhost:8080/"
        },
        "id": "-FOTrW9ptrkf",
        "outputId": "26ae9000-1adb-427e-fef6-cda281547cac"
      },
      "source": [
        "print(\"Welcome to Python Programming\")"
      ],
      "execution_count": 1,
      "outputs": [
        {
          "output_type": "stream",
          "name": "stdout",
          "text": [
            "Welcome to Python Programming\n"
          ]
        }
      ]
    },
    {
      "cell_type": "code",
      "metadata": {
        "colab": {
          "base_uri": "https://localhost:8080/"
        },
        "id": "VG0X6AZwttPF",
        "outputId": "54f6c791-9429-41e5-929f-db5585e5f10e"
      },
      "source": [
        "x=\"Philippe Justine A. Binato\"\n",
        "y=\"061 Talisay St. Bagong Karsada, Naic, Cavite\"\n",
        "z=\"20 years old\"\n",
        "print(\"Name:\"+x)\n",
        "print(\"Address:\"+y)\n",
        "print(\"Age:\"+z)"
      ],
      "execution_count": 2,
      "outputs": [
        {
          "output_type": "stream",
          "name": "stdout",
          "text": [
            "Name:Philippe Justine A. Binato\n",
            "Address:061 Talisay St. Bagong Karsada, Naic, Cavite\n",
            "Age:20 years old\n"
          ]
        }
      ]
    }
  ]
}