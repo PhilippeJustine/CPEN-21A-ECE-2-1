{
  "nbformat": 4,
  "nbformat_minor": 0,
  "metadata": {
    "colab": {
      "name": "Lab1.ipynb",
      "provenance": [],
      "authorship_tag": "ABX9TyPVSUY+Gtrn6HFeLJ9cM5Jr",
      "include_colab_link": true
    },
    "kernelspec": {
      "name": "python3",
      "display_name": "Python 3"
    },
    "language_info": {
      "name": "python"
    }
  },
  "cells": [
    {
      "cell_type": "markdown",
      "metadata": {
        "id": "view-in-github",
        "colab_type": "text"
      },
      "source": [
        "<a href=\"https://colab.research.google.com/github/PhilippeJustine/CPEN-21A-ECE-2-1/blob/main/Lab1.ipynb\" target=\"_parent\"><img src=\"https://colab.research.google.com/assets/colab-badge.svg\" alt=\"Open In Colab\"/></a>"
      ]
    },
    {
      "cell_type": "markdown",
      "metadata": {
        "id": "d5xmoe9xqh63"
      },
      "source": [
        "#Laboratory 1"
      ]
    },
    {
      "cell_type": "code",
      "metadata": {
        "colab": {
          "base_uri": "https://localhost:8080/"
        },
        "id": "HerwpwFgqg6A",
        "outputId": "23ef736b-112a-40dc-d840-674c1df36fe8"
      },
      "source": [
        "x=\"Philippe Justine A. Binato\"\n",
        "y=\"061 Talisay St. Bagong Karsada, Naic, Cavite\"\n",
        "z=\"20 years old\"\n",
        "print(\"Welcome to Python Programming\")\n",
        "print(\"Name:\"+x)\n",
        "print(\"Address:\"+y)\n",
        "print(\"Age:\"+z)"
      ],
      "execution_count": 9,
      "outputs": [
        {
          "output_type": "stream",
          "name": "stdout",
          "text": [
            "Welcome to Python Programming\n",
            "Name:Philippe Justine A. Binato\n",
            "Address:061 Talisay St. Bagong Karsada, Naic, Cavite\n",
            "Age:20 years old\n"
          ]
        }
      ]
    }
  ]
}