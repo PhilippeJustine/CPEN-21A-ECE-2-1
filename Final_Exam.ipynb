{
  "nbformat": 4,
  "nbformat_minor": 0,
  "metadata": {
    "colab": {
      "name": "Final Exam.ipynb",
      "provenance": [],
      "authorship_tag": "ABX9TyPWxJwgzLaw3oB2R2i0ejNH",
      "include_colab_link": true
    },
    "kernelspec": {
      "name": "python3",
      "display_name": "Python 3"
    },
    "language_info": {
      "name": "python"
    }
  },
  "cells": [
    {
      "cell_type": "markdown",
      "metadata": {
        "id": "view-in-github",
        "colab_type": "text"
      },
      "source": [
        "<a href=\"https://colab.research.google.com/github/PhilippeJustine/CPEN-21A-ECE-2-1/blob/main/Final_Exam.ipynb\" target=\"_parent\"><img src=\"https://colab.research.google.com/assets/colab-badge.svg\" alt=\"Open In Colab\"/></a>"
      ]
    },
    {
      "cell_type": "markdown",
      "source": [
        "#Final Exam"
      ],
      "metadata": {
        "id": "fIHmPgKnTAq6"
      }
    },
    {
      "cell_type": "markdown",
      "source": [
        "Binato, Philippe Justine A.\n",
        "| BSECE 2-1"
      ],
      "metadata": {
        "id": "NfGSfToahj4d"
      }
    },
    {
      "cell_type": "markdown",
      "source": [
        "Problem Statement 1"
      ],
      "metadata": {
        "id": "-KSrRd2OTP7W"
      }
    },
    {
      "cell_type": "code",
      "source": [
        "print(\"INPUT NUMBERS LESS THAN 5\")\n",
        "print(\"\")\n",
        "\n",
        "num=[]\n",
        "x=0\n",
        "for x in range (0,10):\n",
        "  while True:\n",
        "    a=float(input(\"Input a Numerical Value:\"))\n",
        "    if a<5:\n",
        "      print(\"\")\n",
        "      break;\n",
        "    else:\n",
        "      print(\"   Invalid Input! Input a numerical value <5.\")\n",
        "    continue;\n",
        "  num.append(a)\n",
        "  x+=1\n",
        "\n",
        "x=0\n",
        "sum=0\n",
        "print(\"The inputs you've entered are\", num)\n",
        "print(\"\")\n",
        "for x in num:\n",
        "  if x<5:\n",
        "    sum=sum+x\n",
        "print(\"The sum of the inputs less than 5 is\", sum )"
      ],
      "metadata": {
        "colab": {
          "base_uri": "https://localhost:8080/"
        },
        "id": "tmLLxdT1Ta39",
        "outputId": "62be624a-e5d9-46fe-c5cf-f602ae6ce15b"
      },
      "execution_count": 5,
      "outputs": [
        {
          "output_type": "stream",
          "name": "stdout",
          "text": [
            "INPUT NUMBERS LESS THAN 5\n",
            "\n",
            "Input a Numerical Value:1\n",
            "\n",
            "Input a Numerical Value:-2\n",
            "\n",
            "Input a Numerical Value:3.1\n",
            "\n",
            "Input a Numerical Value:5\n",
            "   Invalid Input! Input a numerical value <5.\n",
            "Input a Numerical Value:4\n",
            "\n",
            "Input a Numerical Value:1000651\n",
            "   Invalid Input! Input a numerical value <5.\n",
            "Input a Numerical Value:3\n",
            "\n",
            "Input a Numerical Value:-10000651\n",
            "\n",
            "Input a Numerical Value:3.022491\n",
            "\n",
            "Input a Numerical Value:30.15553\n",
            "   Invalid Input! Input a numerical value <5.\n",
            "Input a Numerical Value:-30.21555\n",
            "\n",
            "Input a Numerical Value:4\n",
            "\n",
            "Input a Numerical Value:3\n",
            "\n",
            "The inputs you've entered are [1.0, -2.0, 3.1, 4.0, 3.0, -10000651.0, 3.022491, -30.21555, 4.0, 3.0]\n",
            "\n",
            "The sum of the inputs less than 5 is -10000662.093059\n"
          ]
        }
      ]
    },
    {
      "cell_type": "markdown",
      "source": [
        "Problem Statement 2"
      ],
      "metadata": {
        "id": "aJKIXU9YX1bC"
      }
    },
    {
      "cell_type": "code",
      "source": [
        "print(\"INPUT FIVE NUMBERS\")\n",
        "print(\"\")\n",
        "\n",
        "a=1\n",
        "num={}\n",
        "sum=0\n",
        "while a<=5:\n",
        "  num[a]=float(input(\"Input a Numerical Value:\"))\n",
        "  print(\"\")\n",
        "  a+=1\n",
        "  if a==6:\n",
        "    sum=float(num[1])+float(num[5])\n",
        "\n",
        "print(\"The sum of first and last inputs is\", sum)"
      ],
      "metadata": {
        "colab": {
          "base_uri": "https://localhost:8080/"
        },
        "id": "6UC8GWd6a0C9",
        "outputId": "e5d766ec-03ee-45bc-8f8c-6ee91e0771e7"
      },
      "execution_count": 10,
      "outputs": [
        {
          "output_type": "stream",
          "name": "stdout",
          "text": [
            "INPUT FIVE NUMBERS\n",
            "\n",
            "Input a Numerical Value:-454\n",
            "\n",
            "Input a Numerical Value:5564.595\n",
            "\n",
            "Input a Numerical Value:28\n",
            "\n",
            "Input a Numerical Value:9000000\n",
            "\n",
            "Input a Numerical Value:10000395.554\n",
            "\n",
            "The sum of first and last inputs is 9999941.554\n"
          ]
        }
      ]
    },
    {
      "cell_type": "markdown",
      "source": [
        "Problem Statement 3"
      ],
      "metadata": {
        "id": "CtUn-08raCTl"
      }
    },
    {
      "cell_type": "code",
      "source": [
        "print(\"INPUT YOUR GRADE\")\n",
        "print(\"\")\n",
        "\n",
        "while True:\n",
        "  try: \n",
        "    grade = int(input(\"Input your grade: \"))\n",
        "    if grade<=float('inf'):\n",
        "      break;\n",
        "    else:\n",
        "      print(\"   Input should be an integer\")\n",
        "  except:\n",
        "    print(\"   Input should be an integer\")\n",
        "    continue;\n",
        "\n",
        "print(\"\")\n",
        "if grade >= 90: print(\"You got an A!\")\n",
        "else:\n",
        "  if grade >= 80: print(\"You got a B!\")\n",
        "  elif grade >= 70: print(\"You got a C!\")\n",
        "  elif grade >= 60: print(\"You got a D!\")\n",
        "  else: print(\"You got and F!\")"
      ],
      "metadata": {
        "colab": {
          "base_uri": "https://localhost:8080/"
        },
        "id": "5ZZpILXlxPhi",
        "outputId": "da3897a7-32eb-4ac4-ae50-d63f27895b2e"
      },
      "execution_count": 4,
      "outputs": [
        {
          "output_type": "stream",
          "name": "stdout",
          "text": [
            "INPUT YOUR GRADE\n",
            "\n",
            "Input your grade: pass\n",
            "   Input should be an integer\n",
            "Input your grade: 99.9\n",
            "   Input should be an integer\n",
            "Input your grade: 92\n",
            "\n",
            "You got an A!\n"
          ]
        }
      ]
    }
  ]
}