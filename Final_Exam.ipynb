{
  "nbformat": 4,
  "nbformat_minor": 0,
  "metadata": {
    "colab": {
      "name": "Final Exam.ipynb",
      "provenance": [],
      "authorship_tag": "ABX9TyNJVEfOVt/SYaGxmDEUjkRr",
      "include_colab_link": true
    },
    "kernelspec": {
      "name": "python3",
      "display_name": "Python 3"
    },
    "language_info": {
      "name": "python"
    }
  },
  "cells": [
    {
      "cell_type": "markdown",
      "metadata": {
        "id": "view-in-github",
        "colab_type": "text"
      },
      "source": [
        "<a href=\"https://colab.research.google.com/github/PhilippeJustine/CPEN-21A-ECE-2-1/blob/main/Final_Exam.ipynb\" target=\"_parent\"><img src=\"https://colab.research.google.com/assets/colab-badge.svg\" alt=\"Open In Colab\"/></a>"
      ]
    },
    {
      "cell_type": "markdown",
      "source": [
        "#Final Exam"
      ],
      "metadata": {
        "id": "fIHmPgKnTAq6"
      }
    },
    {
      "cell_type": "markdown",
      "source": [
        "Binato, Philippe Justine A.\n",
        "| BSECE 2-1"
      ],
      "metadata": {
        "id": "NfGSfToahj4d"
      }
    },
    {
      "cell_type": "markdown",
      "source": [
        "Problem Statement 1"
      ],
      "metadata": {
        "id": "-KSrRd2OTP7W"
      }
    },
    {
      "cell_type": "code",
      "source": [
        "print(\"PLEASE INPUT NUMBERS LESS THAN 5\")\n",
        "print(\"\")\n",
        "\n",
        "num=[]\n",
        "x=0\n",
        "for x in range (1,11):\n",
        "  a=float(input(\"Input a Numerical Value:\"))\n",
        "  num.append(a)\n",
        "  x+=1\n",
        "  if a<5:\n",
        "    print(\"\")\n",
        "  else:\n",
        "    print(\"   Invalid Input\")\n",
        "    print(\" \")\n",
        "\n",
        "x=0\n",
        "sum=0\n",
        "print(\"The inputs you've entered are\", num)\n",
        "print(\"\")\n",
        "for x in num:\n",
        "  if x<5:\n",
        "    sum=sum+x\n",
        "print(\"The sum of the inputs less than 5 is\", sum )"
      ],
      "metadata": {
        "colab": {
          "base_uri": "https://localhost:8080/"
        },
        "id": "tmLLxdT1Ta39",
        "outputId": "f73fc886-32ab-4dea-b399-631c7f106a5a"
      },
      "execution_count": 16,
      "outputs": [
        {
          "output_type": "stream",
          "name": "stdout",
          "text": [
            "PLEASE INPUT NUMBERS LESS THAN 5\n",
            "\n",
            "Input a Numerical Value:1.1\n",
            "\n",
            "Input a Numerical Value:2.1\n",
            "\n",
            "Input a Numerical Value:3.1\n",
            "\n",
            "Input a Numerical Value:4.1\n",
            "\n",
            "Input a Numerical Value:4.9\n",
            "\n",
            "Input a Numerical Value:5.0\n",
            "   Invalid Input\n",
            " \n",
            "Input a Numerical Value:5.1\n",
            "   Invalid Input\n",
            " \n",
            "Input a Numerical Value:6\n",
            "   Invalid Input\n",
            " \n",
            "Input a Numerical Value:8\n",
            "   Invalid Input\n",
            " \n",
            "Input a Numerical Value:10\n",
            "   Invalid Input\n",
            " \n",
            "The inputs you've entered are [1.1, 2.1, 3.1, 4.1, 4.9, 5.0, 5.1, 6.0, 8.0, 10.0]\n",
            "\n",
            "The sum of the inputs less than 5 is 15.3\n"
          ]
        }
      ]
    },
    {
      "cell_type": "markdown",
      "source": [
        "Problem Statement 2"
      ],
      "metadata": {
        "id": "aJKIXU9YX1bC"
      }
    },
    {
      "cell_type": "code",
      "source": [
        "print(\"PLEASE INPUT FIVE NUMBERS\")\n",
        "print(\"\")\n",
        "\n",
        "a=1\n",
        "num={}\n",
        "sum=0\n",
        "while a<=5:\n",
        "  i=int(a);\n",
        "  num[a]=input(\"Input a Numerical Value:\")\n",
        "  print(\"\")\n",
        "  a+=1\n",
        "  if a==6:\n",
        "    sum=float(num[1])+float(num[5])\n",
        "\n",
        "print(\"The sum of first and last inputs is\", sum)"
      ],
      "metadata": {
        "colab": {
          "base_uri": "https://localhost:8080/"
        },
        "id": "6UC8GWd6a0C9",
        "outputId": "9dd5103c-9f53-4be6-f35b-291dc24da204"
      },
      "execution_count": 2,
      "outputs": [
        {
          "output_type": "stream",
          "name": "stdout",
          "text": [
            "PLEASE INPUT FIVE NUMBERS\n",
            "\n",
            "Input a Numerical Value:1234.57896\n",
            "\n",
            "Input a Numerical Value:54879.325\n",
            "\n",
            "Input a Numerical Value:100\n",
            "\n",
            "Input a Numerical Value:5\n",
            "\n",
            "Input a Numerical Value:547\n",
            "\n",
            "The sum of first and last inputs is 1781.57896\n"
          ]
        }
      ]
    },
    {
      "cell_type": "markdown",
      "source": [
        "Problem Statement 3"
      ],
      "metadata": {
        "id": "CtUn-08raCTl"
      }
    },
    {
      "cell_type": "code",
      "source": [
        "print(\"PLEASE INPUT YOUR GRADE\")\n",
        "print(\"\")\n",
        "\n",
        "while True:\n",
        "  try: \n",
        "    grade = int(input(\"Input your grade: \"))\n",
        "    if grade<=float('inf'):\n",
        "      break;\n",
        "    else:\n",
        "      print(\"   Input should be an integer\")\n",
        "  except:\n",
        "    print(\"   Input should be an integer\")\n",
        "    continue;\n",
        "\n",
        "print(\"\")\n",
        "if grade >= 90: print(\"You got an A!\")\n",
        "else:\n",
        "  if grade >= 80: print(\"You got a B!\")\n",
        "  elif grade >= 70: print(\"You got a C!\")\n",
        "  elif grade >= 60: print(\"You got a D!\")\n",
        "  else: print(\"You got and F!\")"
      ],
      "metadata": {
        "colab": {
          "base_uri": "https://localhost:8080/"
        },
        "id": "5ZZpILXlxPhi",
        "outputId": "9248cb20-b70f-442f-cd25-e07f197ec180"
      },
      "execution_count": 1,
      "outputs": [
        {
          "output_type": "stream",
          "name": "stdout",
          "text": [
            "PLEASE INPUT YOUR GRADE\n",
            "\n",
            "Input your grade: Pass\n",
            "   Input should be an integer\n",
            "Input your grade: 78.98\n",
            "   Input should be an integer\n",
            "Input your grade: 99\n",
            "\n",
            "You got an A!\n"
          ]
        }
      ]
    }
  ]
}